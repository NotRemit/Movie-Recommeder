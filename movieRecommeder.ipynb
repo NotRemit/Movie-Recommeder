{
 "cells": [
  {
   "cell_type": "markdown",
   "id": "99de2df6",
   "metadata": {},
   "source": [
    "# Movie Recommender System"
   ]
  },
  {
   "cell_type": "code",
   "execution_count": null,
   "id": "ca76dfb7",
   "metadata": {},
   "outputs": [],
   "source": [
    "import pandas as pd\n",
    "import numpy as np\n",
    "from sklearn.metrics.pairwise import cosine_similarity"
   ]
  },
  {
   "cell_type": "markdown",
   "id": "ae07f097",
   "metadata": {},
   "source": [
    " Reading CSV Files and making a pivoted dataframe."
   ]
  },
  {
   "cell_type": "code",
   "execution_count": null,
   "id": "daa33051",
   "metadata": {},
   "outputs": [],
   "source": [
    "df = pd.read_csv('ml-latest-small/ratings.csv')\n",
    "movies_name = pd.read_csv('ml-latest-small/movies.csv')\n",
    "df = pd.pivot(df, index='movieId', columns='userId', values='rating')\n",
    "# df = df[df.notna().sum(axis=1) >= 50]\n",
    "movies_ids = df.fillna(0)\n",
    "movies_ids"
   ]
  },
  {
   "cell_type": "markdown",
   "id": "5652be8a",
   "metadata": {},
   "source": [
    "Retrieving the top 10 movies based on the average rating of a movie that has atleast 50 rating on it."
   ]
  },
  {
   "cell_type": "code",
   "execution_count": null,
   "id": "bdcfef38",
   "metadata": {},
   "outputs": [],
   "source": [
    "average_ratings = movies_ids.mean(axis=1) \n",
    "counts = (movies_ids != 0).sum(axis=1)\n",
    "\n",
    "ratings_summary = pd.DataFrame({\n",
    "    'movieId': average_ratings.index,\n",
    "    'average_rating': average_ratings.values,\n",
    "    'num_ratings': counts.values\n",
    "})\n",
    "\n",
    "movies_with_ratings = ratings_summary.merge(movies_name, on='movieId')\n",
    "movies_with_ratings_filtered = movies_with_ratings[movies_with_ratings['num_ratings'] >= 50]\n",
    "top10_movies = movies_with_ratings_filtered.sort_values('average_rating', ascending=False).head(10)\n",
    "\n",
    "top10_titles = top10_movies['title'].tolist()\n",
    "\n",
    "# Hard coded poster urls to reduce API calls\n",
    "\n",
    "top10_posters = [\n",
    "    'https://m.media-amazon.com/images/M/MV5BMDAyY2FhYjctNDc5OS00MDNlLThiMGUtY2UxYWVkNGY2ZjljXkEyXkFqcGc@._V1_FMjpg_UX1000_.jpg',\n",
    "    'https://m.media-amazon.com/images/M/MV5BNDYwNzVjMTItZmU5YS00YjQ5LTljYjgtMjY2NDVmYWMyNWFmXkEyXkFqcGc@._V1_FMjpg_UX1000_.jpg',\n",
    "    'https://m.media-amazon.com/images/M/MV5BYTViYTE3ZGQtNDBlMC00ZTAyLTkyODMtZGRiZDg0MjA2YThkXkEyXkFqcGc@._V1_.jpg',\n",
    "    'https://m.media-amazon.com/images/M/MV5BN2NmN2VhMTQtMDNiOS00NDlhLTliMjgtODE2ZTY0ODQyNDRhXkEyXkFqcGc@._V1_.jpg',\n",
    "    'https://m.media-amazon.com/images/M/MV5BNDdhOGJhYzctYzYwZC00YmI2LWI0MjctYjg4ODdlMDExYjBlXkEyXkFqcGc@._V1_FMjpg_UX1000_.jpg',\n",
    "    'https://m.media-amazon.com/images/M/MV5BZTQ2MDhmMWMtZjk4Ni00ZDM1LWFjNGEtYzhkNWRmMjk1NzI0XkEyXkFqcGc@._V1_.jpg',\n",
    "    'https://m.media-amazon.com/images/M/MV5BNGMxZDBhNGQtYTZlNi00N2UzLWI4NDEtNmUzNWM2NTdmZDA0XkEyXkFqcGc@._V1_.jpg',\n",
    "    'https://m.media-amazon.com/images/M/MV5BOTgyOGQ1NDItNGU3Ny00MjU3LTg2YWEtNmEyYjBiMjI1Y2M5XkEyXkFqcGc@._V1_FMjpg_UX1000_.jpg',\n",
    "    'https://m.media-amazon.com/images/M/MV5BNjM1ZDQxYWUtMzQyZS00MTE1LWJmZGYtNGUyNTdlYjM3ZmVmXkEyXkFqcGc@._V1_.jpg',\n",
    "    'https://i.pinimg.com/736x/51/ba/64/51ba64b2e61f820e0e86bdd2f4c6e92c.jpg'\n",
    "]\n",
    "\n",
    "top10_titles\n"
   ]
  },
  {
   "cell_type": "markdown",
   "id": "a991460e",
   "metadata": {},
   "source": [
    "Applying cosine similarity to get the euclidean distance of each movies from a given movie."
   ]
  },
  {
   "cell_type": "code",
   "execution_count": null,
   "id": "717ff0ae",
   "metadata": {},
   "outputs": [],
   "source": [
    "similarity_score = cosine_similarity(movies_ids)"
   ]
  },
  {
   "cell_type": "markdown",
   "id": "8606245c",
   "metadata": {},
   "source": [
    "Getting the top 5 movies that has the higest cosine similarity."
   ]
  },
  {
   "cell_type": "code",
   "execution_count": null,
   "id": "063b5223",
   "metadata": {},
   "outputs": [],
   "source": [
    "def recommendedMoviesList(title):\n",
    "  mId = movies_name.loc[movies_name['title'] == title, 'movieId'].iloc[0] #type: ignore\n",
    "  index = np.where(movies_ids.index==mId)[0][0]\n",
    "  suggested_movies_index = []\n",
    "  suggested_movies = []\n",
    "  similar_movies = sorted(list(enumerate(similarity_score[index])), key= lambda x:x[1], reverse=True)[1:6]\n",
    "  for movie in similar_movies:\n",
    "    suggested_movies_index.append(movie[0])\n",
    "  for idx in suggested_movies_index:\n",
    "    movie_id = movies_ids.index[idx]\n",
    "    movie_name = movies_name.loc[movies_name['movieId'] == movie_id, 'title'].iloc[0]\n",
    "    suggested_movies.append(movie_name)\n",
    "  return suggested_movies\n",
    "\n",
    "recommendedMoviesList('Avengers: Age of Ultron (2015)')"
   ]
  },
  {
   "cell_type": "markdown",
   "id": "584a0e60",
   "metadata": {},
   "source": [
    "Using request module to make Get request to OMDb for the poster urls."
   ]
  },
  {
   "cell_type": "code",
   "execution_count": null,
   "id": "043d1a0d",
   "metadata": {},
   "outputs": [],
   "source": [
    "import requests\n",
    "\n",
    "API_KEY = \"cd6aff26\"\n",
    "\n",
    "def get_movie_data(title, year=None):\n",
    "    \"\"\"\n",
    "    Query OMDb API with title and optional year.\n",
    "    Returns the full JSON response.\n",
    "    \"\"\"\n",
    "    base_url = \"http://www.omdbapi.com/\"\n",
    "    params = {\n",
    "        \"apikey\": API_KEY,\n",
    "        \"t\": title,\n",
    "    }\n",
    "    if year:\n",
    "        params[\"y\"] = year\n",
    "\n",
    "    response = requests.get(base_url, params=params)\n",
    "    return response.json()\n",
    "\n",
    "def get_poster_url(title, year=None):\n",
    "    \"\"\"\n",
    "    Convenience wrapper: directly return poster URL if available.\n",
    "    \"\"\"\n",
    "    data = get_movie_data(title, year)\n",
    "    if data.get(\"Response\") == \"True\" and data.get(\"Poster\") != \"N/A\":\n",
    "        return data[\"Poster\"]\n",
    "    return None\n"
   ]
  },
  {
   "cell_type": "markdown",
   "id": "a168e824",
   "metadata": {},
   "source": [
    "Testing the API call for all recommended movies."
   ]
  },
  {
   "cell_type": "code",
   "execution_count": null,
   "id": "eb2e2575",
   "metadata": {},
   "outputs": [],
   "source": [
    "poster_urls = []\n",
    "showMovies = recommendedMoviesList(\"Avengers, The (2012)\")\n",
    "for movie in showMovies:\n",
    "\n",
    "  if '(' in movie and ')' in movie:\n",
    "      title_part = movie.rsplit('(', 1)[0].strip()\n",
    "      year_part = movie.rsplit('(', 1)[1].replace(')', '').strip()\n",
    "  else:\n",
    "      title_part = movie\n",
    "      year_part = None\n",
    "\n",
    "  poster_url = get_poster_url(title_part, year_part)\n",
    "  poster_urls.append(poster_url)\n",
    "\n",
    "poster_urls\n"
   ]
  }
 ],
 "metadata": {
  "kernelspec": {
   "display_name": ".venv",
   "language": "python",
   "name": "python3"
  },
  "language_info": {
   "codemirror_mode": {
    "name": "ipython",
    "version": 3
   },
   "file_extension": ".py",
   "mimetype": "text/x-python",
   "name": "python",
   "nbconvert_exporter": "python",
   "pygments_lexer": "ipython3",
   "version": "3.12.0"
  }
 },
 "nbformat": 4,
 "nbformat_minor": 5
}
